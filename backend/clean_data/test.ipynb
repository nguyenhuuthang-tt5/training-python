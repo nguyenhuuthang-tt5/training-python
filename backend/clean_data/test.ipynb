{
 "cells": [
  {
   "cell_type": "code",
   "execution_count": 1,
   "metadata": {},
   "outputs": [],
   "source": [
    "from time import time\n",
    "import pandas as pd\n",
    "import numpy as np\n",
    "import regex as re"
   ]
  },
  {
   "cell_type": "code",
   "execution_count": 2,
   "metadata": {},
   "outputs": [],
   "source": [
    "def get_single_keywords(df: pd.DataFrame):\n",
    "    COL_KEY_NAME = str(df.iloc[:, 0].name)\n",
    "    COL_CODE_NAME = str(df.iloc[:, 1].name)\n",
    "    # get keyword not contain '+'\n",
    "    df_tempr = df[~df[COL_KEY_NAME].str.contains('+', regex=False, na=False)]\n",
    "    # sort values by word length\n",
    "    index_sorted = df_tempr[COL_KEY_NAME].str.len(\n",
    "    ).sort_values(ascending=False).index\n",
    "    # sord df by new above index\n",
    "    df_sorted = df.reindex(index_sorted)\n",
    "    df_sorted = df_sorted.reset_index(drop=True)\n",
    "    df_sorted[COL_KEY_NAME] = df_sorted[COL_KEY_NAME].map(\n",
    "        lambda x:  re.escape(x.replace('#&', '').strip()))\n",
    "    df_sorted = df_sorted.groupby([COL_CODE_NAME], as_index=False).agg({\n",
    "        COL_KEY_NAME: '|'.join})\n",
    "    df_sorted = pd.DataFrame(df_sorted)\n",
    "    df_sorted[COL_KEY_NAME] = df_sorted[COL_KEY_NAME].map(\n",
    "        lambda x: r'\\b(' + x + r')\\b')\n",
    "    # Map to dict keys = keywords, values = code\n",
    "    dict1 = dict(zip(df_sorted[COL_CODE_NAME].values, df_sorted[COL_KEY_NAME]))\n",
    "    return dict1\n",
    "\n",
    "\n",
    "def get_combination_keywords(df: pd.DataFrame):\n",
    "    COL_KEY_NAME = str(df.iloc[:, 0].name)\n",
    "    COL_CODE_NAME = str(df.iloc[:, 1].name)\n",
    "    # get keyword not contain '+'\n",
    "    df_tempr = df[df[COL_KEY_NAME].str.contains('+', regex=False, na=False)]\n",
    "    # get count char '+' in string\n",
    "    series_count = df_tempr[COL_KEY_NAME].apply(lambda x: x.count('+'))\n",
    "    index_sorted = series_count.sort_values(ascending=False).index\n",
    "    df_sorted = df_tempr.reindex(index_sorted)\n",
    "    df_sorted = df_sorted.reset_index(drop=True)\n",
    "\n",
    "    df_sorted = df_sorted.groupby([COL_CODE_NAME], as_index=False).agg({\n",
    "        COL_KEY_NAME: '|'.join})\n",
    "    df_sorted = pd.DataFrame(df_sorted)\n",
    "    # Map to dict keys = keywords, values = code\n",
    "    keyword_keys = ['|'.join([''.join([r'(?=.*\\b' + re.escape(x.replace('#&', '').strip()) + r'\\b)' for x in keyword.split('+')])+'.*' for keyword in string.split('|')]) \n",
    "    for string in list(df_sorted[COL_KEY_NAME])]\n",
    "    dict1 = dict(zip(df_sorted[COL_CODE_NAME].values, keyword_keys))\n",
    "    return dict1\n"
   ]
  },
  {
   "cell_type": "code",
   "execution_count": 5,
   "metadata": {},
   "outputs": [],
   "source": [
    "def final_keyword(single_dict: dict, combination_dict: dict):\n",
    "    \n",
    "    list_keys = list()\n",
    "\n",
    "    for k, v in combination_dict.items():\n",
    "        if k in single_dict.keys():\n",
    "            single_dict[k] = v + '|' + combination_dict[k]\n",
    "            list_keys.append(k)\n",
    "    \n",
    "    for k in list_keys:\n",
    "        del combination_dict[k]\n",
    "    \n",
    "    final_dict = dict(single_dict, **combination_dict)\n",
    "          \n",
    "    return final_dict\n",
    "    "
   ]
  },
  {
   "cell_type": "code",
   "execution_count": 6,
   "metadata": {},
   "outputs": [],
   "source": [
    "import warnings\n",
    "warnings.filterwarnings('ignore')\n",
    "\n",
    "data_df = pd.read_excel('./testdata/Description 30.6.xlsx')\n",
    "DATA_COL_NAME = data_df.iloc[:,0].name\n",
    "data_df['CODE'] = np.nan\n",
    "data_df.dropna()\n",
    "keyword_df = pd.read_excel('./testdata/KEYWORD - Main Brand 30.6.xlsx')\n",
    "COL_KEY_NAME = str(keyword_df.iloc[:, 0].name)\n",
    "COL_CODE_NAME = str(keyword_df.iloc[:, 1].name)\n",
    "keyword_df = keyword_df.drop_duplicates(subset=[COL_KEY_NAME, COL_CODE_NAME]).reset_index(drop=True)\n",
    "\n",
    "single_dict = get_single_keywords(df=keyword_df)\n",
    "combination_dict = get_combination_keywords(df=keyword_df)\n",
    "final_dict = final_keyword(single_dict=single_dict, combination_dict=combination_dict)\n",
    "\n",
    "df_tempr = pd.DataFrame(columns=data_df.columns)\n",
    "\n",
    "for k, v in final_dict.items():\n",
    "    data_df.loc[data_df[DATA_COL_NAME].str.contains(v, na=False, flags=re.IGNORECASE), 'CODE'] = k\n",
    "    df_tempr = pd.concat([df_tempr, data_df[~data_df['CODE'].isnull()]])\n",
    "    data_df = data_df[data_df['CODE'].isnull()]\n",
    "    \n",
    "df_tempr = pd.concat([df_tempr, data_df])\n",
    "df_tempr.sort_index().to_excel('result.xlsx',index=False)"
   ]
  }
 ],
 "metadata": {
  "kernelspec": {
   "display_name": "Python 3.9.12 ('base')",
   "language": "python",
   "name": "python3"
  },
  "language_info": {
   "codemirror_mode": {
    "name": "ipython",
    "version": 3
   },
   "file_extension": ".py",
   "mimetype": "text/x-python",
   "name": "python",
   "nbconvert_exporter": "python",
   "pygments_lexer": "ipython3",
   "version": "3.9.12"
  },
  "orig_nbformat": 4,
  "vscode": {
   "interpreter": {
    "hash": "76be4c7d5156c1eff9b57b9d9546e9ba6f207a3203227f76da7e4f4de5c2a104"
   }
  }
 },
 "nbformat": 4,
 "nbformat_minor": 2
}
